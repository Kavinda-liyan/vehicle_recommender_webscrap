{
 "cells": [
  {
   "cell_type": "markdown",
   "id": "4aad58db",
   "metadata": {},
   "source": [
    "**Import Libraries and variables**"
   ]
  },
  {
   "cell_type": "code",
   "execution_count": 60,
   "id": "75332d63",
   "metadata": {},
   "outputs": [],
   "source": [
    "import pandas as pd\n",
    "import re\n",
    "import importlib\n",
    "import vehicle_map_1,vehicle_map_2\n",
    "\n",
    "importlib.reload(vehicle_map_1)\n",
    "importlib.reload(vehicle_map_2)\n",
    "from vehicle_map_1 import vehicle_map_1\n",
    "from vehicle_map_2 import vehicle_map_2\n",
    "\n",
    "df=pd.read_csv(\"./datasets/cleaned_vehicles.csv\")"
   ]
  },
  {
   "cell_type": "markdown",
   "id": "6767bfcf",
   "metadata": {},
   "source": [
    "**Add,remove and short**"
   ]
  },
  {
   "cell_type": "code",
   "execution_count": 61,
   "id": "50a97c59",
   "metadata": {},
   "outputs": [
    {
     "name": "stdout",
     "output_type": "stream",
     "text": [
      "Saved 1982 records to before cleaned_vehicles.csv\n"
     ]
    }
   ],
   "source": [
    "noise_words=[\"brand new\",\"b/n\",\"brand n\",\"brandnew\",\"new\",\"used\",\"1st\",\"1st owner\",\"petrol\",\"diesel\",\"hybrid\",\"electric\",\"Anniversary\",\n",
    "\"second\",\"2nd owner\",\"company maintained\",\"first\",\"owner\",\"owners\",\"manual\",\n",
    "\"full option\",\"full options\",\"full-option\",\"full-options\",\"full optioned\",\"full-option\",\"highest spec\",\"high spec\",\"full spec\",\"Pre Order\",\"Moon Roof\",\n",
    "\"moonroof\",\"(brandnew)\",\"(brand new)\",\"(moonroof)\"]\n",
    "\n",
    "#Lowercase Model\n",
    "df[\"Model\"]=df[\"Model\"].str.lower().str.strip()\n",
    "#Sort dataset\n",
    "df=df.sort_values(by=[\"Manufacturer\",\"Model\",\"Year\"],ascending=[True,True,True])\n",
    "\n",
    "\n",
    "print(f\"Saved {len(df)} records to before cleaned_vehicles.csv\")\n",
    "#----------removing noise words from Model column----------\n",
    "for word in noise_words:\n",
    "    df[\"Model\"]=df[\"Model\"].str.replace(word,\"\",regex=True)\n",
    "df[\"Model\"]=df[\"Model\"].str.replace(r\"\\s+\",\" \",regex=True).str.strip()\n",
    "\n",
    "#----------removing duplicates----------\n",
    "df=df.drop_duplicates(subset=[\"Manufacturer\",\"Model\",\"Year\"],keep=\"first\")\n",
    "df = df[df[\"Year\"] >= 2005]\n",
    "\n",
    "#----------Replace words in Model column----------\n",
    "mask = (df[\"Manufacturer\"].str.strip().str.lower() == \"ford\") & \\\n",
    "       (df[\"Model\"].str.lower().str.contains(\"raptor ranger\"))\n",
    "df.loc[mask, \"Model\"] = df.loc[mask, \"Model\"].str.replace(\n",
    "    r\"raptor\\s*ranger\", \"ranger raptor\", regex=True, case=False\n",
    ")\n",
    "#----------Remove floating points----------\n",
    "df[\"Seating Capacity\"] = df[\"Seating Capacity\"].astype(\"Int64\")\n",
    "\n",
    "\n",
    "desired_order = [\n",
    "    \"Manufacturer\", \"Model\", \"Year\", \"Fuel Type\", \"Body Type\", \"Seating Capacity\",\n",
    "    \"Ground Clearance (range)\", \"Body Type 1 (sedan)\", \"Body Type 2 (hatchback)\",\n",
    "    \"Body Type 3 (suv)\", \"Body Type 4 (mpv)\", \"Body Type 5 (pickup)\", \n",
    "    \"Body Type 6 (coupe)\", \"Body Type 7 (convertible)\", \"Body Type 8 (wagon)\",\n",
    "    \"Body Type 9 (van)\", \"Body Type 10 (crossover)\", \"Body Type 11 (kei / microvan)\",\n",
    "    \"Body Type 12 (roadster)\", \"Body Type 13 (other)\", \"Body Type 14 (liftback)\",\n",
    "    \"Body Type 15 (mpv / minivan)\", \"City/Urban\", \"Suburban/Normal\", \n",
    "    \"Mid Off-Road\", \"Off-Road/Hilly Terrain\", \n",
    "    \"Average Price (0-20k km)\", \"Average Price (20k-50k km)\",\n",
    "    \"Average Price (50k-100k km)\", \"Average Price (100k+ km)\"\n",
    "]\n",
    "\n",
    "columns_to_use = [col for col in desired_order if col in df.columns]\n",
    "df = df[columns_to_use]\n"
   ]
  },
  {
   "cell_type": "code",
   "execution_count": 62,
   "id": "a440a216",
   "metadata": {},
   "outputs": [
    {
     "name": "stdout",
     "output_type": "stream",
     "text": [
      "Total Audi cars: 81\n",
      "Total BMW cars: 129\n",
      "Total BYD cars: 6\n",
      "Total Chery cars: 5\n",
      "Total Chevrolet cars: 0\n",
      "Total DFSK cars: 9\n",
      "Total Daihatsu cars: 63\n",
      "Total Datsun cars: 2\n",
      "Total Dongfeng cars: 1\n",
      "Total Fiat cars: 1\n",
      "Total Ford cars: 33\n",
      "Total Honda cars: 165\n",
      "Total Hyundai cars: 30\n",
      "Total Isuzu cars: 0\n",
      "Total JAC cars: 1\n",
      "Total Jaecoo cars: 3\n",
      "Total JMEV cars: 1\n",
      "Total Jaguar cars: 5\n",
      "Total Jeep cars: 8\n",
      "Total Kia cars: 60\n",
      "Total Land Rover cars: 107\n",
      "Total Lexus cars: 14\n",
      "Total MG cars: 8\n",
      "Total Mahindra cars: 12\n",
      "Total Maruti Suzuki cars: 47\n",
      "Total Mazda cars: 20\n",
      "Total Mercedes Benz cars: 119\n",
      "Total Micro cars: 39\n",
      "Total Mitsubishi cars: 91\n",
      "Total Nissan cars: 114\n",
      "Total Perodua cars: 14\n",
      "Total Peugeot cars: 18\n",
      "Total Porsche cars: 6\n",
      "Total Renault cars: 6\n",
      "Total SsangYong  cars: 0\n",
      "Total Subaru cars: 3\n",
      "Total Suzuki cars: 156\n",
      "Total Tata cars: 20\n",
      "Total Tesla cars: 5\n",
      "Total Toyota cars: 557\n",
      "Total Volkswagen cars: 13\n",
      "Total Zotye cars: 3\n"
     ]
    }
   ],
   "source": [
    "vehicle_maps={**vehicle_map_1,**vehicle_map_2}\n",
    "\n",
    "for brand, attributes in vehicle_maps.items():\n",
    "    for model, seating_capacity in attributes[\"seating_capacity\"].items():\n",
    "        df.loc[\n",
    "            (df[\"Manufacturer\"].str.strip().str.lower() == brand.strip().lower())\n",
    "            & (df[\"Model\"].str.contains(model, case=False, regex=False)),\n",
    "            \"Seating Capacity\",\n",
    "        ] = seating_capacity\n",
    "\n",
    "    for model, btype in attributes[\"body_type\"].items():\n",
    "        mask = (df[\"Manufacturer\"] == brand) & (df[\"Model\"].str.lower().eq(model))\n",
    "        df.loc[mask, \"Body Type\"] = btype\n",
    "        mask = (df[\"Manufacturer\"] == brand) & (\n",
    "            df[\"Model\"].str.lower().str.contains(model)\n",
    "        )\n",
    "        df.loc[mask & df[\"Body Type\"].isna(), \"Body Type\"] = btype\n",
    "\n",
    "    print(f\"Total {brand} cars: {df[df['Manufacturer'] == brand].shape[0]}\")"
   ]
  },
  {
   "cell_type": "code",
   "execution_count": 63,
   "id": "2c183e5e",
   "metadata": {},
   "outputs": [],
   "source": [
    "df[\"Body Type\"] = df[\"Body Type\"].str.lower()\n",
    "\n",
    "body_type_map = {\n",
    "    \"sedan\": \"Body Type 1 (sedan)\",\n",
    "    \"hatchback\": \"Body Type 2 (hatchback)\",\n",
    "    \"suv\": \"Body Type 3 (suv)\",\n",
    "    \"mpv\": \"Body Type 4 (mpv)\",\n",
    "    \"pickup\": \"Body Type 5 (pickup)\",\n",
    "    \"coupe\": \"Body Type 6 (coupe)\",\n",
    "    \"convertible\": \"Body Type 7 (convertible)\",\n",
    "    \"wagon\": \"Body Type 8 (wagon)\",\n",
    "    \"van\": \"Body Type 9 (van)\",\n",
    "    \"crossover\": \"Body Type 10 (crossover)\",\n",
    "    \"kei / microvan\": \"Body Type 11 (kei / microvan)\",\n",
    "    \"roadster\": \"Body Type 12 (roadster)\",\n",
    "    \"other\": \"Body Type 13 (other)\",\n",
    "    \"liftback\": \"Body Type 14 (liftback)\",\n",
    "    \"mpv / minivan\": \"Body Type 15 (mpv / minivan)\",\n",
    "\n",
    "}\n",
    "\n",
    "for col_name in body_type_map.values():\n",
    "    df[col_name] = 0\n",
    "\n",
    "for btype, col_name in body_type_map.items():\n",
    "    df.loc[df[\"Body Type\"].str.contains(btype, na=False), col_name] = 1"
   ]
  },
  {
   "cell_type": "code",
   "execution_count": 64,
   "id": "025e7e20",
   "metadata": {},
   "outputs": [],
   "source": [
    "df[\"Ground Clearance (range)\"] = (\n",
    "    df[\"Ground Clearance (range)\"]\n",
    "    .astype(str)\n",
    "    .str.extract(r'(\\d+\\.?\\d*)')[0]\n",
    "    .astype(float)\n",
    "    .astype(\"Int64\") \n",
    ")\n",
    "\n",
    "gc = df[\"Ground Clearance (range)\"].fillna(0)\n",
    "\n",
    "df.loc[gc <= 130, \"City/Urban\"] = 1 # City/Urban: <= 130\n",
    "df.loc[(gc > 130) & (gc <= 170), [\"City/Urban\", \"Suburban/Normal\"]] = 1 # Suburban/Normal: 131–170\n",
    "df.loc[(gc > 170) & (gc <= 200), [\"City/Urban\",\"Suburban/Normal\",\"Mid Off-Road\"]] = 1 # Mid Off-Road: 171–200\n",
    "df.loc[gc > 200, [\"City/Urban\",\"Suburban/Normal\",\"Mid Off-Road\",\"Off-Road/Hilly Terrain\"]] = 1 # Off-Road/Hilly Terrain: >200\n"
   ]
  },
  {
   "cell_type": "code",
   "execution_count": 65,
   "id": "2d321588",
   "metadata": {},
   "outputs": [
    {
     "name": "stdout",
     "output_type": "stream",
     "text": [
      "Saved 1982 records to cleaned_vehicles.csv\n"
     ]
    }
   ],
   "source": [
    "df.to_csv(\"./datasets/cleaned_vehicles.csv\",index=False)\n",
    "print(f\"Saved {len(df)} records to cleaned_vehicles.csv\")"
   ]
  },
  {
   "cell_type": "markdown",
   "id": "932ef104",
   "metadata": {},
   "source": [
    "**Merge Final Year Filtered Dataset**"
   ]
  },
  {
   "cell_type": "code",
   "execution_count": 66,
   "id": "1e08b886",
   "metadata": {},
   "outputs": [
    {
     "name": "stdout",
     "output_type": "stream",
     "text": [
      "Saved 1158 records to vehicles_merged.csv\n"
     ]
    }
   ],
   "source": [
    "group_cols = [c for c in df.columns if c != \"Year\"]\n",
    "\n",
    "# Custom function to merge years\n",
    "def merge_years(years):\n",
    "    years = sorted(set(years))\n",
    "    if len(years) == 1:\n",
    "        return str(years[0])\n",
    "    # Check if continuous\n",
    "    if years == list(range(min(years), max(years) + 1)):\n",
    "        return f\"{min(years)}–{max(years)}\"\n",
    "    else:\n",
    "        return \",\".join(map(str, years))\n",
    "\n",
    "# Apply grouping + year merge\n",
    "df_merged = df.groupby(group_cols, as_index=False).agg({\"Year\": merge_years})\n",
    "\n",
    "# Save back to CSV\n",
    "df_merged.to_csv(\"./datasets/vehicles_merged.csv\", index=False)\n",
    "print(f\"Saved {len(df_merged)} records to vehicles_merged.csv\")"
   ]
  }
 ],
 "metadata": {
  "kernelspec": {
   "display_name": "Python 3",
   "language": "python",
   "name": "python3"
  },
  "language_info": {
   "codemirror_mode": {
    "name": "ipython",
    "version": 3
   },
   "file_extension": ".py",
   "mimetype": "text/x-python",
   "name": "python",
   "nbconvert_exporter": "python",
   "pygments_lexer": "ipython3",
   "version": "3.10.5"
  }
 },
 "nbformat": 4,
 "nbformat_minor": 5
}
