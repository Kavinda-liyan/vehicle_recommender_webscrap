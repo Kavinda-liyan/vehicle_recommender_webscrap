{
 "cells": [
  {
   "cell_type": "markdown",
   "id": "4aad58db",
   "metadata": {},
   "source": [
    "Import Libraries and variables"
   ]
  },
  {
   "cell_type": "code",
   "execution_count": 123,
   "id": "75332d63",
   "metadata": {},
   "outputs": [],
   "source": [
    "import pandas as pd\n",
    "import re\n",
    "import importlib\n",
    "import vehicle_map_1,vehicle_map_2\n",
    "\n",
    "importlib.reload(vehicle_map_1)\n",
    "importlib.reload(vehicle_map_2)\n",
    "from vehicle_map_1 import vehicle_map_1\n",
    "from vehicle_map_2 import vehicle_map_2\n",
    "\n",
    "df=pd.read_csv(\"./datasets/cleaned_vehicles.csv\")"
   ]
  },
  {
   "cell_type": "markdown",
   "id": "6767bfcf",
   "metadata": {},
   "source": [
    "Add,remove and short"
   ]
  },
  {
   "cell_type": "code",
   "execution_count": null,
   "id": "50a97c59",
   "metadata": {},
   "outputs": [
    {
     "name": "stdout",
     "output_type": "stream",
     "text": [
      "Saved 2683 records to before cleaned_vehicles.csv\n"
     ]
    }
   ],
   "source": [
    "noise_words=[\"brand new\",\"b/n\",\"brand n\",\"brandnew\",\"new\",\"used\",\"1st\",\"1st owner\",\"petrol\",\"diesel\",\"hybrid\",\"electric\",\"Anniversary\",\n",
    "\"second\",\"2nd owner\",\"company maintained\",\"first\",\"owner\",\"owners\",\"manual\",\n",
    "\"full option\",\"full options\",\"full-option\",\"full-options\",\"full optioned\",\"full-option\",\"highest spec\",\"high spec\",\"full spec\",\"Pre Order\",\"Moon Roof\",\n",
    "\"moonroof\",\"(brandnew)\",\"(brand new)\",\"(moonroof)\"]\n",
    "\n",
    "# columns_to_add={\n",
    "#     \"Body Type\":\"Model\",\n",
    "#     \"Seating Capacity\":\"Fuel Type\",\n",
    "#     \"Ground Clearance\":\"Seating Capacity\",\n",
    "#     \"Ground Clearance\":\"Ground Clearance (range)\",\n",
    "\n",
    "# }\n",
    "\n",
    "# for col_name,ref_col in columns_to_add.items():\n",
    "#     if col_name not in df.columns:\n",
    "#         col_index=df.columns.get_loc(ref_col)+1\n",
    "#         df.insert(col_index,col_name,None)\n",
    "#     else:\n",
    "#         print(f\"{col_name} column already exists\")\n",
    "\n",
    "#----------Modifing Dataset----------\n",
    "#Lowercase Model\n",
    "df[\"Model\"]=df[\"Model\"].str.lower().str.strip()\n",
    "#Sort dataset\n",
    "df=df.sort_values(by=[\"Manufacturer\",\"Model\",\"Year\"],ascending=[True,True,True])\n",
    "#----------Rearranging columns----------\n",
    "#Year column after Model column\n",
    "cols=list(df.columns)\n",
    "cols.remove(\"Year\")\n",
    "cols.insert(cols.index(\"Model\")+1,\"Year\")\n",
    "df = df[cols]\n",
    "\n",
    "# cols=list(df.columns)\n",
    "# cols.remove(\"Ground Clearance\")\n",
    "# df=df[cols]\n",
    "\n",
    "#Fuel Type column after Year column\n",
    "cols=list(df.columns)\n",
    "cols.remove(\"Fuel Type\")\n",
    "cols.insert(cols.index(\"Year\")+1,\"Fuel Type\")\n",
    "df = df[cols]\n",
    "\n",
    "\n",
    "print(f\"Saved {len(df)} records to before cleaned_vehicles.csv\")\n",
    "#----------removing noise words from Model column----------\n",
    "for word in noise_words:\n",
    "    df[\"Model\"]=df[\"Model\"].str.replace(word,\"\",regex=True)\n",
    "df[\"Model\"]=df[\"Model\"].str.replace(r\"\\s+\",\" \",regex=True).str.strip()\n",
    "\n",
    "#----------removing duplicates----------\n",
    "df=df.drop_duplicates(subset=[\"Manufacturer\",\"Model\",\"Year\"],keep=\"first\")\n",
    "\n",
    "#----------Replace words in Model column----------\n",
    "mask = (df[\"Manufacturer\"].str.strip().str.lower() == \"ford\") & \\\n",
    "       (df[\"Model\"].str.lower().str.contains(\"raptor ranger\"))\n",
    "df.loc[mask, \"Model\"] = df.loc[mask, \"Model\"].str.replace(\n",
    "    r\"raptor\\s*ranger\", \"ranger raptor\", regex=True, case=False\n",
    ")\n",
    "#----------Remove floating points----------\n",
    "df[\"Seating Capacity\"] = df[\"Seating Capacity\"].astype(\"Int64\")"
   ]
  },
  {
   "cell_type": "code",
   "execution_count": 125,
   "id": "a440a216",
   "metadata": {},
   "outputs": [
    {
     "name": "stdout",
     "output_type": "stream",
     "text": [
      "Total Audi cars: 83\n",
      "Total BMW cars: 132\n",
      "Total BYD cars: 6\n",
      "Total Chery cars: 6\n",
      "Total Chevrolet cars: 1\n",
      "Total DFSK cars: 18\n",
      "Total Daihatsu cars: 105\n",
      "Total Datsun cars: 2\n",
      "Total Dongfeng cars: 1\n",
      "Total Fiat cars: 1\n",
      "Total Ford cars: 55\n",
      "Total Honda cars: 211\n",
      "Total Hyundai cars: 40\n",
      "Total Isuzu cars: 1\n",
      "Total JAC cars: 2\n",
      "Total Jaecoo cars: 3\n",
      "Total JMEV cars: 1\n",
      "Total Jaguar cars: 5\n",
      "Total Jeep cars: 9\n",
      "Total Kia cars: 70\n",
      "Total Land Rover cars: 112\n",
      "Total Lexus cars: 16\n",
      "Total MG cars: 8\n",
      "Total Mahindra cars: 13\n",
      "Total Maruti Suzuki cars: 51\n",
      "Total Mazda cars: 23\n",
      "Total Mercedes Benz cars: 136\n",
      "Total Micro cars: 39\n",
      "Total Mitsubishi cars: 108\n",
      "Total Nissan cars: 140\n",
      "Total Perodua cars: 15\n",
      "Total Peugeot cars: 22\n",
      "Total Porsche cars: 6\n",
      "Total Renault cars: 6\n",
      "Total SsangYong  cars: 0\n",
      "Total Subaru cars: 3\n",
      "Total Suzuki cars: 164\n",
      "Total Tata cars: 22\n",
      "Total Tesla cars: 8\n",
      "Total Toyota cars: 1010\n"
     ]
    }
   ],
   "source": [
    "vehicle_maps={**vehicle_map_1,**vehicle_map_2}\n",
    "\n",
    "for brand, attributes in vehicle_maps.items():\n",
    "    for model, seating_capacity in attributes[\"seating_capacity\"].items():\n",
    "        df.loc[\n",
    "            (df[\"Manufacturer\"].str.strip().str.lower() == brand.strip().lower())\n",
    "            & (df[\"Model\"].str.contains(model, case=False, regex=False)),\n",
    "            \"Seating Capacity\",\n",
    "        ] = seating_capacity\n",
    "\n",
    "    for model, btype in attributes[\"body_type\"].items():\n",
    "        mask = (df[\"Manufacturer\"] == brand) & (df[\"Model\"].str.lower().eq(model))\n",
    "        df.loc[mask, \"Body Type\"] = btype\n",
    "        mask = (df[\"Manufacturer\"] == brand) & (\n",
    "            df[\"Model\"].str.lower().str.contains(model)\n",
    "        )\n",
    "        df.loc[mask & df[\"Body Type\"].isna(), \"Body Type\"] = btype\n",
    "    \n",
    "    \n",
    " \n",
    "\n",
    "\n",
    "    print(f\"Total {brand} cars: {df[df['Manufacturer'] == brand].shape[0]}\")"
   ]
  },
  {
   "cell_type": "code",
   "execution_count": 126,
   "id": "2d321588",
   "metadata": {},
   "outputs": [
    {
     "name": "stdout",
     "output_type": "stream",
     "text": [
      "Saved 2681 records to cleaned_vehicles.csv\n"
     ]
    }
   ],
   "source": [
    "df.to_csv(\"./datasets/cleaned_vehicles.csv\",index=False)\n",
    "print(f\"Saved {len(df)} records to cleaned_vehicles.csv\")"
   ]
  }
 ],
 "metadata": {
  "kernelspec": {
   "display_name": "Python 3",
   "language": "python",
   "name": "python3"
  },
  "language_info": {
   "codemirror_mode": {
    "name": "ipython",
    "version": 3
   },
   "file_extension": ".py",
   "mimetype": "text/x-python",
   "name": "python",
   "nbconvert_exporter": "python",
   "pygments_lexer": "ipython3",
   "version": "3.10.5"
  }
 },
 "nbformat": 4,
 "nbformat_minor": 5
}
